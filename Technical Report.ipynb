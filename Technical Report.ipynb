{
 "cells": [
  {
   "cell_type": "markdown",
   "metadata": {},
   "source": [
    "# Technical Report - Best of the Best: Choosing the 'Best of' from 'Legal Advice'"
   ]
  },
  {
   "cell_type": "markdown",
   "metadata": {},
   "source": [
    "## Phase 0:  Imports"
   ]
  },
  {
   "cell_type": "code",
   "execution_count": 1,
   "metadata": {},
   "outputs": [],
   "source": [
    "import requests\n",
    "import pandas as pd\n",
    "import numpy as np\n",
    "import time\n",
    "import matplotlib.pyplot as plt \n",
    "import seaborn as sns\n",
    "import re\n",
    "import nltk\n",
    "import spacy\n",
    "import en_core_web_sm\n",
    "\n",
    "from datetime import datetime\n",
    "from nltk.tokenize import sent_tokenize, word_tokenize, RegexpTokenizer\n",
    "from nltk.sentiment.vader import SentimentIntensityAnalyzer\n",
    "from sklearn.feature_extraction.text import CountVectorizer, TfidfVectorizer\n",
    "from nltk.stem import WordNetLemmatizer\n",
    "from sklearn.model_selection import train_test_split, GridSearchCV\n",
    "from sklearn.pipeline import Pipeline, FeatureUnion\n",
    "from sklearn.naive_bayes import MultinomialNB\n",
    "from sklearn.metrics import confusion_matrix, plot_confusion_matrix, plot_roc_curve\n",
    "from sklearn.linear_model import LogisticRegressionCV\n",
    "from sklearn.neighbors import KNeighborsClassifier\n",
    "from sklearn.ensemble import RandomForestClassifier\n",
    "from sklearn import metrics\n",
    "from langdetect import detect"
   ]
  },
  {
   "cell_type": "markdown",
   "metadata": {},
   "source": [
    "## Phase 1 - Problem Definition\n",
    "\n",
    "###    1.1 Broad Goal(s):\n",
    "\n",
    "    My goal is two-fold:\n",
    "        1. Using [Pushshift's](https://github.com/pushshift/api) API, collect posts from two subreddits of my choosing.\n",
    "        2. Use NLP to train a classifier on which subreddit a given post came from. This is a binary classification problem."
   ]
  },
  {
   "cell_type": "markdown",
   "metadata": {},
   "source": [
    "###    1.2 Subreddit Selection\n",
    "\n",
    "Reddit.com has a 'best of' feature-- both of Reddit itself and of specific subreddits.  How a post or comment is selected to be a 'best of' is a fascinating rabbit hole to dig in to- see a guest post by Randall Munroe of XKCD fame on the subject here: \n",
    "    https://redditblog.com/2009/10/15/reddits-new-comment-sorting-system/\n",
    "    or take a look at the reddit post asking the same question here:\n",
    "    https://www.reddit.com/r/NoStupidQuestions/comments/6cmz29/how_does_reddit_determine_the_best_ranking_in_a/\n",
    "\n",
    "TL;DR- it combines a statistical algorithm that tracks the activity, number of comments and number of upvotes to determine which comments and which posts are the most engaged with and flags it for a redditor's review.\n",
    "\n",
    "The question I wanted to examine is whether or not the titles can be parsed to determine whether they come from the original subreddit or from the 'best of' subreddit *in the same category.*\n",
    "    \n",
    "To do this I'm looking at the subreddits of:\n",
    "\n",
    "    1. r/legaladvice\n",
    "    2. r/bestoflegaladvice\n",
    "\n",
    "In short: can we build a model that will predict whether a post is from the legal advice subreddit or the curated best of legal advice subreddit?"
   ]
  },
  {
   "cell_type": "markdown",
   "metadata": {},
   "source": [
    "### 1.3 Problem Statement\n",
    "\n",
    "How well can we train a classification model to correctly classify the title of a subreddit post as belonging to the r/legaladvice subreddit or the r/bestoflegaladvice subreddt?\n",
    "\n",
    "Stretch question:  Predict which r/legaladvice posts are most likely to be added to r/bestoflegaladvice?"
   ]
  },
  {
   "cell_type": "markdown",
   "metadata": {},
   "source": [
    "# Phase 2 - Data Gathering"
   ]
  },
  {
   "cell_type": "markdown",
   "metadata": {},
   "source": [
    "### 2.1 Define Function to gather posts from reddit using pushshift API"
   ]
  },
  {
   "cell_type": "code",
   "execution_count": 2,
   "metadata": {},
   "outputs": [],
   "source": [
    "def get_posts(subreddit, n):\n",
    "    url = 'https://api.pushshift.io/reddit/search/submission'\n",
    "    if n < 100:\n",
    "        params = {\n",
    "        'subreddit' : subreddit, \n",
    "        'size': n \n",
    "        }\n",
    "        res = requests.get(url, params)\n",
    "        data = res.json()\n",
    "        posts = data['data']\n",
    "    else:\n",
    "# note:  Pushshift.io now has a hard limit of 100 posts returned per API hit, so I'm setting this 100 limit here and will loop through this call until I hit n posts\n",
    "        #get now in epoch date time format\n",
    "        today = datetime.now()\n",
    "        now = today.replace(hour=0, minute=0, second=0, microsecond=0)\n",
    "        epoch = int(now.timestamp()) #get now in epoch date time format\n",
    "\n",
    "        params = {\n",
    "            'subreddit' : subreddit,\n",
    "            'size' : 100, #pull 100 posts at a time\n",
    "            'before' : epoch #set to now\n",
    "        }\n",
    "        posts = []\n",
    "        # until I have as many posts as called for\n",
    "        while len(posts) <  n:\n",
    "            # get the posts\n",
    "            res = requests.get(url, params)\n",
    "            # convert to list\n",
    "            data = res.json()\n",
    "            # add to list\n",
    "            posts.extend(data['data'])\n",
    "            # set params 'before' to oldest post's utc\n",
    "            params['before'] = data['data'][99]['created_utc']\n",
    "            # pause for 5 seconds so we're not hitting the API too fast and maxing it out.\n",
    "            time.sleep(5)\n",
    "\n",
    "    return pd.DataFrame(posts) # "
   ]
  },
  {
   "cell_type": "markdown",
   "metadata": {},
   "source": [
    "### 2.2 Gather Posts from each of 2 Subreddits\n",
    "\n",
    "        - r/bestoflegaladvice\n",
    "        - r/legaladvice\n",
    "\n",
    "First look used a total set of 2,000 titles, final model was trained on a total set of 10,000 title."
   ]
  },
  {
   "cell_type": "code",
   "execution_count": 3,
   "metadata": {},
   "outputs": [],
   "source": [
    "bola_df = get_posts('bestoflegaladvice', 5_000)\n",
    "la_df = get_posts('legaladvice', 5_000)\n",
    "#  get 'r/bestoflegaladvice' and 'r/legaladvice' separately, concat together\n",
    "df = pd.concat([bola_df, la_df], ignore_index = True)"
   ]
  },
  {
   "cell_type": "markdown",
   "metadata": {},
   "source": [
    "### 2.3 Data Cleaning"
   ]
  },
  {
   "cell_type": "markdown",
   "metadata": {},
   "source": [
    "In this particular case there were no missing cells and significantly more columns than needed.  Data cleaning was completed by simply dropping all columns except the text corpus 'title' column and the target columns of 'subreddit'.  In future iterations, filtering the corpus by language may prove useful"
   ]
  },
  {
   "cell_type": "code",
   "execution_count": 4,
   "metadata": {},
   "outputs": [],
   "source": [
    "df =  df[['title', 'subreddit']]"
   ]
  },
  {
   "cell_type": "markdown",
   "metadata": {},
   "source": [
    "### 2.4 Save to CSV for EDA"
   ]
  },
  {
   "cell_type": "code",
   "execution_count": 5,
   "metadata": {},
   "outputs": [],
   "source": [
    "df.to_csv('./data/clean_reddit_data.csv', index = False)"
   ]
  },
  {
   "cell_type": "markdown",
   "metadata": {},
   "source": [
    "## Phase 3 - Exploratory Data Analysis\n",
    "    3.1 VADER Sentiment Analysis\n",
    "    3.2 Word Count/Length Analysis\n",
    "    3.3 Pipeline/Grid Search \n",
    "    3.4 Title Tags?  y/n?\n",
    "        - Best of has common title tags (ie. LAOP)\n",
    "    3.4 save to CSV"
   ]
  },
  {
   "cell_type": "code",
   "execution_count": 6,
   "metadata": {},
   "outputs": [],
   "source": [
    "#load in clean data\n",
    "df = pd.read_csv('./data/clean_reddit_data.csv')"
   ]
  },
  {
   "cell_type": "markdown",
   "metadata": {},
   "source": [
    "### 3.1 Sentiment Analysis"
   ]
  },
  {
   "cell_type": "code",
   "execution_count": 41,
   "metadata": {},
   "outputs": [],
   "source": [
    "sia = SentimentIntensityAnalyzer()\n",
    "# following C. Schmitt's sentiment analysis lesson for SIA workflow.\n",
    "# https://git.generalassemb.ly/DSI-12-Echelon/nlp_modeling_and_sentiment_analysis\n",
    "\n",
    "dicts = []\n",
    "\n",
    "for title in df['title']:\n",
    "    scores = sia.polarity_scores(title)\n",
    "    dicts.append(scores)\n",
    "\n",
    "scores = pd.DataFrame(dicts)\n",
    "\n",
    "# add scores to existing df\n",
    "sia_df = pd.concat([df, scores], axis = 1)\n"
   ]
  },
  {
   "cell_type": "code",
   "execution_count": 8,
   "metadata": {},
   "outputs": [
    {
     "data": {
      "image/png": "[encoded data removed]",
      "text/plain": [
       "<Figure size 432x288 with 1 Axes>"
      ]
     },
     "metadata": {
      "needs_background": "light"
     },
     "output_type": "display_data"
    }
   ],
   "source": [
    "sia_df.groupby('subreddit').mean()[['pos', 'neg']].plot(kind = 'barh')\n",
    "plt.title('Average Positive vs Negative Score by Subreddit')\n",
    "plt.savefig('./imgs/pos-neg-avg.png');"
   ]
  },
  {
   "cell_type": "code",
   "execution_count": 9,
   "metadata": {},
   "outputs": [
    {
     "data": {
      "image/png": "[encoded data removed]",
      "text/plain": [
       "<Figure size 360x360 with 1 Axes>"
      ]
     },
     "metadata": {
      "needs_background": "light"
     },
     "output_type": "display_data"
    }
   ],
   "source": [
    "sns.catplot(x='subreddit', y='compound', kind='box', data=sia_df)\n",
    "plt.title('Boxplot of Compound Scores');\n",
    "plt.savefig('./imgs/sia-compound-boxplot.png')"
   ]
  },
  {
   "cell_type": "markdown",
   "metadata": {},
   "source": [
    "The compound scores are showing the biggest variation between the two categories.  We're seeing a wider spread of compound sentiment scores in the r/bestoflegaladvice subreddit."
   ]
  },
  {
   "cell_type": "markdown",
   "metadata": {},
   "source": [
    "## 3.2 Word Count / N-Gram Analysis"
   ]
  },
  {
   "cell_type": "code",
   "execution_count": 10,
   "metadata": {},
   "outputs": [],
   "source": [
    "wc_df = sia_df.copy()"
   ]
  },
  {
   "cell_type": "code",
   "execution_count": 11,
   "metadata": {},
   "outputs": [
    {
     "data": {
      "image/png": "[encoded data removed]",
      "text/plain": [
       "<Figure size 440x216 with 2 Axes>"
      ]
     },
     "metadata": {
      "needs_background": "light"
     },
     "output_type": "display_data"
    }
   ],
   "source": [
    "wc_df['char_count'] = wc_df['title'].map(len)\n",
    "g = sns.FacetGrid(wc_df, col=\"subreddit\")\n",
    "g.map(plt.hist, \"char_count\")\n",
    "g.add_legend();\n",
    "plt.savefig('./imgs/char_count_comparison.png');"
   ]
  },
  {
   "cell_type": "markdown",
   "metadata": {},
   "source": [
    "The overall length in characters of the r/bestoflegaladvice titles are showing a flatter curve and greater overall distribution than r/legaladvice, which is showing a positive skew."
   ]
  },
  {
   "cell_type": "code",
   "execution_count": 12,
   "metadata": {},
   "outputs": [
    {
     "data": {
      "image/png": "[encoded data removed]",
      "text/plain": [
       "<Figure size 440x216 with 2 Axes>"
      ]
     },
     "metadata": {
      "needs_background": "light"
     },
     "output_type": "display_data"
    }
   ],
   "source": [
    "wc_df['word_count'] = [len(title.split(' ')) for title in wc_df['title']]\n",
    "g = sns.FacetGrid(wc_df, col=\"subreddit\")\n",
    "g.map(plt.hist, \"word_count\")\n",
    "g.add_legend()\n",
    "plt.savefig('./imgs/word_count_comparison.png')"
   ]
  },
  {
   "cell_type": "markdown",
   "metadata": {},
   "source": [
    "Unsurprisingly, we're seeing comparable distributions of words counts to character counts."
   ]
  },
  {
   "cell_type": "code",
   "execution_count": 13,
   "metadata": {},
   "outputs": [
    {
     "data": {
      "image/png": "[encoded data removed]",
      "text/plain": [
       "<Figure size 484.375x360 with 1 Axes>"
      ]
     },
     "metadata": {
      "needs_background": "light"
     },
     "output_type": "display_data"
    }
   ],
   "source": [
    "pal = dict(bestoflegaladvice=\"green\", legaladvice=\"gray\")\n",
    "g = sns.FacetGrid(wc_df, hue=\"subreddit\", palette=pal, height=5, )\n",
    "g.map(plt.scatter, \"word_count\", \"compound\", s=50, alpha=.7, linewidth=.5, edgecolor=\"white\")\n",
    "plt.xlabel('Word Count')\n",
    "plt.ylabel('Compound Sentiment Score')\n",
    "plt.title('Comparison of Word Count to Sentiment Score')\n",
    "g.add_legend();\n",
    "plt.savefig('./imgs/word_count_vs_sentiment.png')"
   ]
  },
  {
   "cell_type": "markdown",
   "metadata": {},
   "source": [
    "When looking at a scatterplot of compound sentiment score compared to word count by subreddit, we can see that the r/legaladvice subreddit' posts are clustered mostly on the smaller word count end and the r/bestoflegaladvice subreddit is spread out.  While we do not see a trend in the sentiment, we do see that the r/bestoflegaladvice subreddit's titles tend to have more words"
   ]
  },
  {
   "cell_type": "markdown",
   "metadata": {},
   "source": [
    "The following section uses functions created by Susan Li, available at her Towards Data Science post on NLP EDA\n",
    "https://towardsdatascience.com/a-complete-exploratory-data-analysis-and-visualization-for-text-data-29fb1b96fb6a"
   ]
  },
  {
   "cell_type": "code",
   "execution_count": 14,
   "metadata": {},
   "outputs": [],
   "source": [
    "def get_top_n_words(corpus, n=None):\n",
    "    vec = CountVectorizer(stop_words = 'english').fit(corpus)\n",
    "    bag_of_words = vec.transform(corpus)\n",
    "    sum_words = bag_of_words.sum(axis=0) \n",
    "    words_freq = [(word, sum_words[0, idx]) for word, idx in vec.vocabulary_.items()]\n",
    "    words_freq =sorted(words_freq, key = lambda x: x[1], reverse=True)\n",
    "    return words_freq[:n]"
   ]
  },
  {
   "cell_type": "code",
   "execution_count": 15,
   "metadata": {},
   "outputs": [
    {
     "data": {
      "text/html": [
       "<div>\n",
       "<style scoped>\n",
       "    .dataframe tbody tr th:only-of-type {\n",
       "        vertical-align: middle;\n",
       "    }\n",
       "\n",
       "    .dataframe tbody tr th {\n",
       "        vertical-align: top;\n",
       "    }\n",
       "\n",
       "    .dataframe thead th {\n",
       "        text-align: right;\n",
       "    }\n",
       "</style>\n",
       "<table border=\"1\" class=\"dataframe\">\n",
       "  <thead>\n",
       "    <tr style=\"text-align: right;\">\n",
       "      <th></th>\n",
       "      <th>Word</th>\n",
       "      <th>Count</th>\n",
       "    </tr>\n",
       "  </thead>\n",
       "  <tbody>\n",
       "    <tr>\n",
       "      <th>0</th>\n",
       "      <td>laop</td>\n",
       "      <td>2772</td>\n",
       "    </tr>\n",
       "    <tr>\n",
       "      <th>1</th>\n",
       "      <td>car</td>\n",
       "      <td>561</td>\n",
       "    </tr>\n",
       "    <tr>\n",
       "      <th>2</th>\n",
       "      <td>legal</td>\n",
       "      <td>513</td>\n",
       "    </tr>\n",
       "    <tr>\n",
       "      <th>3</th>\n",
       "      <td>la</td>\n",
       "      <td>487</td>\n",
       "    </tr>\n",
       "    <tr>\n",
       "      <th>4</th>\n",
       "      <td>wants</td>\n",
       "      <td>458</td>\n",
       "    </tr>\n",
       "    <tr>\n",
       "      <th>5</th>\n",
       "      <td>landlord</td>\n",
       "      <td>422</td>\n",
       "    </tr>\n",
       "    <tr>\n",
       "      <th>6</th>\n",
       "      <td>title</td>\n",
       "      <td>401</td>\n",
       "    </tr>\n",
       "    <tr>\n",
       "      <th>7</th>\n",
       "      <td>advice</td>\n",
       "      <td>382</td>\n",
       "    </tr>\n",
       "    <tr>\n",
       "      <th>8</th>\n",
       "      <td>house</td>\n",
       "      <td>374</td>\n",
       "    </tr>\n",
       "    <tr>\n",
       "      <th>9</th>\n",
       "      <td>help</td>\n",
       "      <td>358</td>\n",
       "    </tr>\n",
       "    <tr>\n",
       "      <th>10</th>\n",
       "      <td>just</td>\n",
       "      <td>350</td>\n",
       "    </tr>\n",
       "    <tr>\n",
       "      <th>11</th>\n",
       "      <td>actual</td>\n",
       "      <td>326</td>\n",
       "    </tr>\n",
       "    <tr>\n",
       "      <th>12</th>\n",
       "      <td>work</td>\n",
       "      <td>307</td>\n",
       "    </tr>\n",
       "    <tr>\n",
       "      <th>13</th>\n",
       "      <td>pay</td>\n",
       "      <td>303</td>\n",
       "    </tr>\n",
       "    <tr>\n",
       "      <th>14</th>\n",
       "      <td>got</td>\n",
       "      <td>297</td>\n",
       "    </tr>\n",
       "    <tr>\n",
       "      <th>15</th>\n",
       "      <td>ex</td>\n",
       "      <td>296</td>\n",
       "    </tr>\n",
       "    <tr>\n",
       "      <th>16</th>\n",
       "      <td>company</td>\n",
       "      <td>291</td>\n",
       "    </tr>\n",
       "    <tr>\n",
       "      <th>17</th>\n",
       "      <td>police</td>\n",
       "      <td>281</td>\n",
       "    </tr>\n",
       "    <tr>\n",
       "      <th>18</th>\n",
       "      <td>op</td>\n",
       "      <td>277</td>\n",
       "    </tr>\n",
       "    <tr>\n",
       "      <th>19</th>\n",
       "      <td>need</td>\n",
       "      <td>276</td>\n",
       "    </tr>\n",
       "  </tbody>\n",
       "</table>\n",
       "</div>"
      ],
      "text/plain": [
       "        Word  Count\n",
       "0       laop   2772\n",
       "1        car    561\n",
       "2      legal    513\n",
       "3         la    487\n",
       "4      wants    458\n",
       "5   landlord    422\n",
       "6      title    401\n",
       "7     advice    382\n",
       "8      house    374\n",
       "9       help    358\n",
       "10      just    350\n",
       "11    actual    326\n",
       "12      work    307\n",
       "13       pay    303\n",
       "14       got    297\n",
       "15        ex    296\n",
       "16   company    291\n",
       "17    police    281\n",
       "18        op    277\n",
       "19      need    276"
      ]
     },
     "execution_count": 15,
     "metadata": {},
     "output_type": "execute_result"
    }
   ],
   "source": [
    "common_words = get_top_n_words(wc_df['title'], 20)\n",
    "cw_df = pd.DataFrame(common_words, columns = ['Word', 'Count'])\n",
    "cw_df[:20]"
   ]
  },
  {
   "cell_type": "code",
   "execution_count": 16,
   "metadata": {},
   "outputs": [],
   "source": [
    "def get_top_n_bigrams(corpus, n=None):\n",
    "    vec = CountVectorizer(stop_words = 'english', ngram_range=(2, 2)).fit(corpus)\n",
    "    bag_of_words = vec.transform(corpus)\n",
    "    sum_words = bag_of_words.sum(axis=0) \n",
    "    words_freq = [(word, sum_words[0, idx]) for word, idx in vec.vocabulary_.items()]\n",
    "    words_freq =sorted(words_freq, key = lambda x: x[1], reverse=True)\n",
    "    return words_freq[:n]"
   ]
  },
  {
   "cell_type": "code",
   "execution_count": 17,
   "metadata": {},
   "outputs": [],
   "source": [
    "common_bigrams = get_top_n_bigrams(wc_df['title'], 20)\n",
    "la_wc_df = wc_df[wc_df['subreddit'] == 'legaladvice'].copy()\n",
    "bola_wc_df = wc_df[wc_df['subreddit'] == 'bestoflegaladvice'].copy()\n",
    "la_common_bigrams = get_top_n_bigrams(la_wc_df['title'], 20)\n",
    "bola_common_bigrams = get_top_n_bigrams(bola_wc_df['title'], 20)"
   ]
  },
  {
   "cell_type": "code",
   "execution_count": 18,
   "metadata": {},
   "outputs": [
    {
     "data": {
      "text/html": [
       "<div>\n",
       "<style scoped>\n",
       "    .dataframe tbody tr th:only-of-type {\n",
       "        vertical-align: middle;\n",
       "    }\n",
       "\n",
       "    .dataframe tbody tr th {\n",
       "        vertical-align: top;\n",
       "    }\n",
       "\n",
       "    .dataframe thead th {\n",
       "        text-align: right;\n",
       "    }\n",
       "</style>\n",
       "<table border=\"1\" class=\"dataframe\">\n",
       "  <thead>\n",
       "    <tr style=\"text-align: right;\">\n",
       "      <th></th>\n",
       "      <th>Bigram</th>\n",
       "      <th>Count</th>\n",
       "    </tr>\n",
       "  </thead>\n",
       "  <tbody>\n",
       "    <tr>\n",
       "      <th>0</th>\n",
       "      <td>need help</td>\n",
       "      <td>41</td>\n",
       "    </tr>\n",
       "    <tr>\n",
       "      <th>1</th>\n",
       "      <td>need advice</td>\n",
       "      <td>41</td>\n",
       "    </tr>\n",
       "    <tr>\n",
       "      <th>2</th>\n",
       "      <td>security deposit</td>\n",
       "      <td>39</td>\n",
       "    </tr>\n",
       "    <tr>\n",
       "      <th>3</th>\n",
       "      <td>child support</td>\n",
       "      <td>34</td>\n",
       "    </tr>\n",
       "    <tr>\n",
       "      <th>4</th>\n",
       "      <td>car accident</td>\n",
       "      <td>33</td>\n",
       "    </tr>\n",
       "    <tr>\n",
       "      <th>5</th>\n",
       "      <td>covid 19</td>\n",
       "      <td>31</td>\n",
       "    </tr>\n",
       "    <tr>\n",
       "      <th>6</th>\n",
       "      <td>year old</td>\n",
       "      <td>29</td>\n",
       "    </tr>\n",
       "    <tr>\n",
       "      <th>7</th>\n",
       "      <td>apartment complex</td>\n",
       "      <td>27</td>\n",
       "    </tr>\n",
       "    <tr>\n",
       "      <th>8</th>\n",
       "      <td>speeding ticket</td>\n",
       "      <td>26</td>\n",
       "    </tr>\n",
       "    <tr>\n",
       "      <th>9</th>\n",
       "      <td>new york</td>\n",
       "      <td>23</td>\n",
       "    </tr>\n",
       "    <tr>\n",
       "      <th>10</th>\n",
       "      <td>small claims</td>\n",
       "      <td>23</td>\n",
       "    </tr>\n",
       "    <tr>\n",
       "      <th>11</th>\n",
       "      <td>don know</td>\n",
       "      <td>23</td>\n",
       "    </tr>\n",
       "    <tr>\n",
       "      <th>12</th>\n",
       "      <td>restraining order</td>\n",
       "      <td>22</td>\n",
       "    </tr>\n",
       "    <tr>\n",
       "      <th>13</th>\n",
       "      <td>just got</td>\n",
       "      <td>20</td>\n",
       "    </tr>\n",
       "    <tr>\n",
       "      <th>14</th>\n",
       "      <td>legal action</td>\n",
       "      <td>20</td>\n",
       "    </tr>\n",
       "    <tr>\n",
       "      <th>15</th>\n",
       "      <td>break lease</td>\n",
       "      <td>19</td>\n",
       "    </tr>\n",
       "    <tr>\n",
       "      <th>16</th>\n",
       "      <td>legal advice</td>\n",
       "      <td>18</td>\n",
       "    </tr>\n",
       "    <tr>\n",
       "      <th>17</th>\n",
       "      <td>car insurance</td>\n",
       "      <td>18</td>\n",
       "    </tr>\n",
       "    <tr>\n",
       "      <th>18</th>\n",
       "      <td>insurance company</td>\n",
       "      <td>17</td>\n",
       "    </tr>\n",
       "    <tr>\n",
       "      <th>19</th>\n",
       "      <td>years ago</td>\n",
       "      <td>16</td>\n",
       "    </tr>\n",
       "  </tbody>\n",
       "</table>\n",
       "</div>"
      ],
      "text/plain": [
       "               Bigram  Count\n",
       "0           need help     41\n",
       "1         need advice     41\n",
       "2    security deposit     39\n",
       "3       child support     34\n",
       "4        car accident     33\n",
       "5            covid 19     31\n",
       "6            year old     29\n",
       "7   apartment complex     27\n",
       "8     speeding ticket     26\n",
       "9            new york     23\n",
       "10       small claims     23\n",
       "11           don know     23\n",
       "12  restraining order     22\n",
       "13           just got     20\n",
       "14       legal action     20\n",
       "15        break lease     19\n",
       "16       legal advice     18\n",
       "17      car insurance     18\n",
       "18  insurance company     17\n",
       "19          years ago     16"
      ]
     },
     "execution_count": 18,
     "metadata": {},
     "output_type": "execute_result"
    }
   ],
   "source": [
    "la_cb_df = pd.DataFrame(la_common_bigrams, columns = ['Bigram', 'Count'])\n",
    "la_cb_df"
   ]
  },
  {
   "cell_type": "code",
   "execution_count": 19,
   "metadata": {},
   "outputs": [
    {
     "data": {
      "text/html": [
       "<div>\n",
       "<style scoped>\n",
       "    .dataframe tbody tr th:only-of-type {\n",
       "        vertical-align: middle;\n",
       "    }\n",
       "\n",
       "    .dataframe tbody tr th {\n",
       "        vertical-align: top;\n",
       "    }\n",
       "\n",
       "    .dataframe thead th {\n",
       "        text-align: right;\n",
       "    }\n",
       "</style>\n",
       "<table border=\"1\" class=\"dataframe\">\n",
       "  <thead>\n",
       "    <tr style=\"text-align: right;\">\n",
       "      <th></th>\n",
       "      <th>Bigram</th>\n",
       "      <th>Count</th>\n",
       "    </tr>\n",
       "  </thead>\n",
       "  <tbody>\n",
       "    <tr>\n",
       "      <th>0</th>\n",
       "      <td>actual title</td>\n",
       "      <td>293</td>\n",
       "    </tr>\n",
       "    <tr>\n",
       "      <th>1</th>\n",
       "      <td>laop wants</td>\n",
       "      <td>125</td>\n",
       "    </tr>\n",
       "    <tr>\n",
       "      <th>2</th>\n",
       "      <td>year old</td>\n",
       "      <td>92</td>\n",
       "    </tr>\n",
       "    <tr>\n",
       "      <th>3</th>\n",
       "      <td>wants know</td>\n",
       "      <td>70</td>\n",
       "    </tr>\n",
       "    <tr>\n",
       "      <th>4</th>\n",
       "      <td>legal advice</td>\n",
       "      <td>66</td>\n",
       "    </tr>\n",
       "    <tr>\n",
       "      <th>5</th>\n",
       "      <td>tree law</td>\n",
       "      <td>41</td>\n",
       "    </tr>\n",
       "    <tr>\n",
       "      <th>6</th>\n",
       "      <td>la discusses</td>\n",
       "      <td>39</td>\n",
       "    </tr>\n",
       "    <tr>\n",
       "      <th>7</th>\n",
       "      <td>laop ex</td>\n",
       "      <td>37</td>\n",
       "    </tr>\n",
       "    <tr>\n",
       "      <th>8</th>\n",
       "      <td>good advice</td>\n",
       "      <td>37</td>\n",
       "    </tr>\n",
       "    <tr>\n",
       "      <th>9</th>\n",
       "      <td>laop gets</td>\n",
       "      <td>36</td>\n",
       "    </tr>\n",
       "    <tr>\n",
       "      <th>10</th>\n",
       "      <td>laop asks</td>\n",
       "      <td>33</td>\n",
       "    </tr>\n",
       "    <tr>\n",
       "      <th>11</th>\n",
       "      <td>original title</td>\n",
       "      <td>32</td>\n",
       "    </tr>\n",
       "    <tr>\n",
       "      <th>12</th>\n",
       "      <td>laop friend</td>\n",
       "      <td>32</td>\n",
       "    </tr>\n",
       "    <tr>\n",
       "      <th>13</th>\n",
       "      <td>laop neighbor</td>\n",
       "      <td>31</td>\n",
       "    </tr>\n",
       "    <tr>\n",
       "      <th>14</th>\n",
       "      <td>la debates</td>\n",
       "      <td>30</td>\n",
       "    </tr>\n",
       "    <tr>\n",
       "      <th>15</th>\n",
       "      <td>laop wife</td>\n",
       "      <td>29</td>\n",
       "    </tr>\n",
       "    <tr>\n",
       "      <th>16</th>\n",
       "      <td>covid 19</td>\n",
       "      <td>28</td>\n",
       "    </tr>\n",
       "    <tr>\n",
       "      <th>17</th>\n",
       "      <td>years ago</td>\n",
       "      <td>28</td>\n",
       "    </tr>\n",
       "    <tr>\n",
       "      <th>18</th>\n",
       "      <td>laop just</td>\n",
       "      <td>28</td>\n",
       "    </tr>\n",
       "    <tr>\n",
       "      <th>19</th>\n",
       "      <td>wants sue</td>\n",
       "      <td>28</td>\n",
       "    </tr>\n",
       "  </tbody>\n",
       "</table>\n",
       "</div>"
      ],
      "text/plain": [
       "            Bigram  Count\n",
       "0     actual title    293\n",
       "1       laop wants    125\n",
       "2         year old     92\n",
       "3       wants know     70\n",
       "4     legal advice     66\n",
       "5         tree law     41\n",
       "6     la discusses     39\n",
       "7          laop ex     37\n",
       "8      good advice     37\n",
       "9        laop gets     36\n",
       "10       laop asks     33\n",
       "11  original title     32\n",
       "12     laop friend     32\n",
       "13   laop neighbor     31\n",
       "14      la debates     30\n",
       "15       laop wife     29\n",
       "16        covid 19     28\n",
       "17       years ago     28\n",
       "18       laop just     28\n",
       "19       wants sue     28"
      ]
     },
     "execution_count": 19,
     "metadata": {},
     "output_type": "execute_result"
    }
   ],
   "source": [
    "bola_cb_df = pd.DataFrame(bola_common_bigrams, columns = ['Bigram', 'Count'])\n",
    "bola_cb_df"
   ]
  },
  {
   "cell_type": "markdown",
   "metadata": {},
   "source": [
    "All right!  We're seeing significant divergence here in the most common bigrams across the two subreddits.  This is promising for training a good model.  Additionally, we're seeing that the most common bigrams from r/bestoflegaladvice are much more common than r/legaladvice.  That being said, I'm seeing a very common tag popping up-  'LAOP'  In the context of r/bestoflegaladvice, this means 'Legal Advice Original Post'.  Additionally, the most common bigram overall is 'actual title'.  \n",
    "\n",
    "While these two points are highly useful in building a classifier based on title alone, they might get in the way of longer term goals of building a predictor of which posts in r/legaladvice will become r/bestoflegaladvice."
   ]
  },
  {
   "cell_type": "markdown",
   "metadata": {},
   "source": [
    "### 3.3 Spacy library - Part of Speech Analysis\n",
    "\n",
    "Inspired to use the Spacy Library by TowardsDataScience's post by Edward Ma available at https://towardsdatascience.com/named-entity-recognition-3fad3f53c91e"
   ]
  },
  {
   "cell_type": "code",
   "execution_count": 20,
   "metadata": {},
   "outputs": [],
   "source": [
    "# Spacy set up\n",
    "nlp = en_core_web_sm.load()"
   ]
  },
  {
   "cell_type": "code",
   "execution_count": 21,
   "metadata": {},
   "outputs": [],
   "source": [
    "pct_dicts = []\n",
    "for title in df['title']:\n",
    "    doc = nlp(title)\n",
    "    typ_pcts = {\n",
    "        'pct_nouns': (len([token.text for token in doc if token.pos_ == 'NOUN'])/ len(doc)),\n",
    "        'pct_verbs' : (len([token.text for token in doc if token.pos_ == 'VERB'])/ len(doc)),\n",
    "        'pct_propnouns' : (len([token.text for token in doc if token.pos_ == 'PROPN'])/ len(doc))\n",
    "    }\n",
    "    pct_dicts.append(typ_pcts)\n",
    "    \n",
    "pos_pcts = pd.DataFrame(pct_dicts)\n",
    "\n",
    "typ_dicts = []\n",
    "for title in df['title']:\n",
    "    doc = nlp(title)\n",
    "    typ_counts = {\n",
    "        'n_nouns': len([token.text for token in doc if token.pos_ == 'NOUN']),\n",
    "        'n_verbs' : len([token.text for token in doc if token.pos_ == 'VERB']),\n",
    "        'n_propnouns' : len([token.text for token in doc if token.pos_ == 'PROPN'])\n",
    "    }\n",
    "    typ_dicts.append(typ_counts)\n",
    "    \n",
    "pos_counts = pd.DataFrame(typ_dicts)"
   ]
  },
  {
   "cell_type": "code",
   "execution_count": 22,
   "metadata": {},
   "outputs": [],
   "source": [
    "ks_df = pd.concat([wc_df, pos_pcts, pos_counts], axis = 1) #Kitchen Sink Dataframe- it has everything in it."
   ]
  },
  {
   "cell_type": "code",
   "execution_count": 23,
   "metadata": {},
   "outputs": [
    {
     "data": {
      "image/png": "[encoded data removed]",
      "text/plain": [
       "<Figure size 360x360 with 1 Axes>"
      ]
     },
     "metadata": {
      "needs_background": "light"
     },
     "output_type": "display_data"
    }
   ],
   "source": [
    "sns.catplot(x='subreddit', y='pct_propnouns', kind = 'box', data= ks_df)\n",
    "plt.title('Boxplot of Proper Noun counts')\n",
    "plt.savefig('./imgs/comparative_propnoun_counts.png');"
   ]
  },
  {
   "cell_type": "code",
   "execution_count": 24,
   "metadata": {},
   "outputs": [
    {
     "data": {
      "image/png": "[encoded data removed]",
      "text/plain": [
       "<Figure size 360x360 with 1 Axes>"
      ]
     },
     "metadata": {
      "needs_background": "light"
     },
     "output_type": "display_data"
    }
   ],
   "source": [
    "sns.catplot(x='subreddit', y='pct_nouns', kind = 'box', data=ks_df)\n",
    "plt.title('Boxplot of Noun Percentage')\n",
    "plt.savefig('./imgs/comparative_noun_counts.png');"
   ]
  },
  {
   "cell_type": "code",
   "execution_count": 25,
   "metadata": {},
   "outputs": [
    {
     "data": {
      "image/png": "[encoded data removed]",
      "text/plain": [
       "<Figure size 360x360 with 1 Axes>"
      ]
     },
     "metadata": {
      "needs_background": "light"
     },
     "output_type": "display_data"
    }
   ],
   "source": [
    "sns.catplot(x='subreddit', y='pct_verbs', kind = 'box', data=ks_df)\n",
    "plt.title('Catplot of Verb Percentage');\n",
    "plt.savefig('./imgs/comparative_verb_counts.png');"
   ]
  },
  {
   "cell_type": "markdown",
   "metadata": {},
   "source": [
    "When plotting the percentage of part of speech type, I'm showing a few differences in spread between r/bestoflegaladvice and r/legaladvice.  Might be something to add in as an experiment for modeling the kitchen sink df in addition to a CountVectorized df or a TF-IDF Vectorized dataframe.  The documentation that is included with spaCy implies that it is good for training Neural Network models and it might be a bit of a stretch to include it in this project."
   ]
  },
  {
   "cell_type": "markdown",
   "metadata": {},
   "source": [
    "## Phase 4 - Modeling"
   ]
  },
  {
   "cell_type": "code",
   "execution_count": 26,
   "metadata": {},
   "outputs": [],
   "source": [
    "base_df = pd.read_csv('./data/clean_reddit_data.csv')\n",
    "# convert the base_df subreddit column to 1's and 0's\n",
    "base_df['subreddit'] = base_df['subreddit'].map({'bestoflegaladvice': 1, 'legaladvice': 0})"
   ]
  },
  {
   "cell_type": "markdown",
   "metadata": {},
   "source": [
    "### 4.1 Train/Test/Split"
   ]
  },
  {
   "cell_type": "code",
   "execution_count": 27,
   "metadata": {},
   "outputs": [],
   "source": [
    "X = base_df['title']\n",
    "y = base_df['subreddit']\n",
    "X_train, X_test, y_train, y_test = train_test_split(X, y, random_state = 9) # for the Mighty Nein!"
   ]
  },
  {
   "cell_type": "markdown",
   "metadata": {},
   "source": [
    "The modeling notebook contains all of the models tested as well as annotations.  For the purposes of this summary we're bringing in only the best option- the Multinomial Naive Bayes"
   ]
  },
  {
   "cell_type": "code",
   "execution_count": 28,
   "metadata": {},
   "outputs": [],
   "source": [
    "cvec_mnnb_pipe = Pipeline([\n",
    "    ('cvec', CountVectorizer()),\n",
    "    ('mnnb', MultinomialNB())\n",
    "])\n",
    "\n",
    "cvec_mnnb_pipe_params = {\n",
    "    'cvec__stop_words' : [None],\n",
    "    'cvec__max_features' : [4000],# Maximum number of features fit: 2000, 3000, 4000, 5000\n",
    "    'cvec__min_df' : [2],                 # Minimum number of documents needed to include token: 2, 3\n",
    "    'cvec__max_df' : [.8],                # Maximum number of documents needed to include token: 80%, 90%, 95%\n",
    "    'cvec__ngram_range' : [(1, 1),   # Check (individual tokens) and also check (individual tokens and 2-grams).\n",
    "}\n",
    "cvec_mnnb_gs = GridSearchCV(cvec_mnnb_pipe, cvec_mnnb_pipe_params, cv = 5, verbose = 1, n_jobs = -2)\n",
    "\n",
    "cvec_mnnb_gs.fit(X_train, y_train)\n",
    "cvec_mnnb_gs.score(X_train, y_train), cvec_mnnb_gs.score(X_test, y_test)"
   ]
  },
  {
   "cell_type": "code",
   "execution_count": 44,
   "metadata": {},
   "outputs": [
    {
     "data": {
      "text/plain": [
       "{'cvec__max_df': 0.8,\n",
       " 'cvec__max_features': 4000,\n",
       " 'cvec__min_df': 2,\n",
       " 'cvec__ngram_range': (1, 1),\n",
       " 'cvec__stop_words': None}"
      ]
     },
     "execution_count": 44,
     "metadata": {},
     "output_type": "execute_result"
    }
   ],
   "source": [
    "cvec_mnnb_gs.best_params_"
   ]
  },
  {
   "cell_type": "markdown",
   "metadata": {},
   "source": [
    "### 4.2-4.5 Different Model Types"
   ]
  },
  {
   "cell_type": "markdown",
   "metadata": {},
   "source": [
    "See the modeling notebook for more detailed breakdown of models, a summary is below:"
   ]
  },
  {
   "cell_type": "markdown",
   "metadata": {},
   "source": [
    "## Phase 5 - Model Analysis"
   ]
  },
  {
   "cell_type": "code",
   "execution_count": 30,
   "metadata": {},
   "outputs": [],
   "source": [
    "accuracy_df = pd.read_csv('./data/accuracy_data.csv', index_col = 'Unnamed: 0')"
   ]
  },
  {
   "cell_type": "code",
   "execution_count": 31,
   "metadata": {},
   "outputs": [
    {
     "data": {
      "text/html": [
       "<div>\n",
       "<style scoped>\n",
       "    .dataframe tbody tr th:only-of-type {\n",
       "        vertical-align: middle;\n",
       "    }\n",
       "\n",
       "    .dataframe tbody tr th {\n",
       "        vertical-align: top;\n",
       "    }\n",
       "\n",
       "    .dataframe thead th {\n",
       "        text-align: right;\n",
       "    }\n",
       "</style>\n",
       "<table border=\"1\" class=\"dataframe\">\n",
       "  <thead>\n",
       "    <tr style=\"text-align: right;\">\n",
       "      <th></th>\n",
       "      <th>Train</th>\n",
       "      <th>Test</th>\n",
       "      <th>Variance</th>\n",
       "    </tr>\n",
       "  </thead>\n",
       "  <tbody>\n",
       "    <tr>\n",
       "      <th>Count Vectorized Logistic Regression</th>\n",
       "      <td>0.94</td>\n",
       "      <td>0.89</td>\n",
       "      <td>0.05</td>\n",
       "    </tr>\n",
       "    <tr>\n",
       "      <th>TF-IDF Logistic Regression</th>\n",
       "      <td>0.95</td>\n",
       "      <td>0.89</td>\n",
       "      <td>0.06</td>\n",
       "    </tr>\n",
       "    <tr>\n",
       "      <th>Count Vectorized K-Nearest Neighbors</th>\n",
       "      <td>0.99</td>\n",
       "      <td>0.72</td>\n",
       "      <td>0.27</td>\n",
       "    </tr>\n",
       "    <tr>\n",
       "      <th>TF-IDF Vectorized K-Nearest Neighbors</th>\n",
       "      <td>0.99</td>\n",
       "      <td>0.58</td>\n",
       "      <td>0.41</td>\n",
       "    </tr>\n",
       "    <tr>\n",
       "      <th>Count Vectorized Multinomial Naive Bayes</th>\n",
       "      <td>0.91</td>\n",
       "      <td>0.87</td>\n",
       "      <td>0.04</td>\n",
       "    </tr>\n",
       "    <tr>\n",
       "      <th>TF-IDF Vectorized Multinomial Naive Bayes</th>\n",
       "      <td>0.91</td>\n",
       "      <td>0.87</td>\n",
       "      <td>0.04</td>\n",
       "    </tr>\n",
       "    <tr>\n",
       "      <th>Count Vectorized Random Forest</th>\n",
       "      <td>0.91</td>\n",
       "      <td>0.88</td>\n",
       "      <td>0.03</td>\n",
       "    </tr>\n",
       "    <tr>\n",
       "      <th>TF-IDF Vectorized Random Forest</th>\n",
       "      <td>0.92</td>\n",
       "      <td>0.87</td>\n",
       "      <td>0.05</td>\n",
       "    </tr>\n",
       "  </tbody>\n",
       "</table>\n",
       "</div>"
      ],
      "text/plain": [
       "                                           Train  Test  Variance\n",
       "Count Vectorized Logistic Regression        0.94  0.89      0.05\n",
       "TF-IDF Logistic Regression                  0.95  0.89      0.06\n",
       "Count Vectorized K-Nearest Neighbors        0.99  0.72      0.27\n",
       "TF-IDF Vectorized K-Nearest Neighbors       0.99  0.58      0.41\n",
       "Count Vectorized Multinomial Naive Bayes    0.91  0.87      0.04\n",
       "TF-IDF Vectorized Multinomial Naive Bayes   0.91  0.87      0.04\n",
       "Count Vectorized Random Forest              0.91  0.88      0.03\n",
       "TF-IDF Vectorized Random Forest             0.92  0.87      0.05"
      ]
     },
     "execution_count": 31,
     "metadata": {},
     "output_type": "execute_result"
    }
   ],
   "source": [
    "accuracy_df"
   ]
  },
  {
   "cell_type": "code",
   "execution_count": 32,
   "metadata": {},
   "outputs": [],
   "source": [
    "misclassified_titles = pd.read_csv('./data/misclassified_titles.csv')"
   ]
  },
  {
   "cell_type": "code",
   "execution_count": 33,
   "metadata": {},
   "outputs": [
    {
     "name": "stderr",
     "output_type": "stream",
     "text": [
      "/opt/anaconda3/envs/dsi/lib/python3.7/site-packages/ipykernel_launcher.py:5: SettingWithCopyWarning: \n",
      "A value is trying to be set on a copy of a slice from a DataFrame.\n",
      "Try using .loc[row_indexer,col_indexer] = value instead\n",
      "\n",
      "See the caveats in the documentation: https://pandas.pydata.org/pandas-docs/stable/user_guide/indexing.html#returning-a-view-versus-a-copy\n",
      "  \"\"\"\n"
     ]
    }
   ],
   "source": [
    "cvec_mnnb_preds = cvec_mnnb_gs.predict(X_test)\n",
    "prediction = pd.DataFrame(data = cvec_mnnb_preds, columns=['prediction'], index = X_test.index.copy())\n",
    "product = pd.concat([X_test, prediction, y_test], axis = 1)\n",
    "misclassifieds = product[product['subreddit'] != product['prediction']]\n",
    "misclassifieds['language'] = misclassifieds['title'].map(detect)\n",
    "false_positives = product[(product['subreddit'] != product['prediction']) & (product['prediction'] == 1)]\n",
    "false_negatives = product[(product['subreddit'] != product['prediction']) & (product['prediction'] == 0)]"
   ]
  },
  {
   "cell_type": "code",
   "execution_count": 34,
   "metadata": {},
   "outputs": [],
   "source": [
    "def get_top_n_bigrams(corpus, n=None): #using Susan Li's bigram function again\n",
    "    vec = CountVectorizer(ngram_range=(2, 2)).fit(corpus)\n",
    "    bag_of_words = vec.transform(corpus)\n",
    "    sum_words = bag_of_words.sum(axis=0) \n",
    "    words_freq = [(word, sum_words[0, idx]) for word, idx in vec.vocabulary_.items()]\n",
    "    words_freq =sorted(words_freq, key = lambda x: x[1], reverse=True)\n",
    "    return words_freq[:n]"
   ]
  },
  {
   "cell_type": "code",
   "execution_count": 35,
   "metadata": {},
   "outputs": [
    {
     "data": {
      "text/html": [
       "<div>\n",
       "<style scoped>\n",
       "    .dataframe tbody tr th:only-of-type {\n",
       "        vertical-align: middle;\n",
       "    }\n",
       "\n",
       "    .dataframe tbody tr th {\n",
       "        vertical-align: top;\n",
       "    }\n",
       "\n",
       "    .dataframe thead th {\n",
       "        text-align: right;\n",
       "    }\n",
       "</style>\n",
       "<table border=\"1\" class=\"dataframe\">\n",
       "  <thead>\n",
       "    <tr style=\"text-align: right;\">\n",
       "      <th></th>\n",
       "      <th>Bigram</th>\n",
       "      <th>Count</th>\n",
       "    </tr>\n",
       "  </thead>\n",
       "  <tbody>\n",
       "    <tr>\n",
       "      <th>0</th>\n",
       "      <td>is it</td>\n",
       "      <td>7</td>\n",
       "    </tr>\n",
       "    <tr>\n",
       "      <th>1</th>\n",
       "      <td>it legal</td>\n",
       "      <td>5</td>\n",
       "    </tr>\n",
       "    <tr>\n",
       "      <th>2</th>\n",
       "      <td>they have</td>\n",
       "      <td>4</td>\n",
       "    </tr>\n",
       "    <tr>\n",
       "      <th>3</th>\n",
       "      <td>out of</td>\n",
       "      <td>4</td>\n",
       "    </tr>\n",
       "    <tr>\n",
       "      <th>4</th>\n",
       "      <td>for the</td>\n",
       "      <td>4</td>\n",
       "    </tr>\n",
       "    <tr>\n",
       "      <th>5</th>\n",
       "      <td>this is</td>\n",
       "      <td>4</td>\n",
       "    </tr>\n",
       "    <tr>\n",
       "      <th>6</th>\n",
       "      <td>to be</td>\n",
       "      <td>4</td>\n",
       "    </tr>\n",
       "    <tr>\n",
       "      <th>7</th>\n",
       "      <td>the first</td>\n",
       "      <td>3</td>\n",
       "    </tr>\n",
       "    <tr>\n",
       "      <th>8</th>\n",
       "      <td>my wife</td>\n",
       "      <td>3</td>\n",
       "    </tr>\n",
       "    <tr>\n",
       "      <th>9</th>\n",
       "      <td>legal for</td>\n",
       "      <td>3</td>\n",
       "    </tr>\n",
       "  </tbody>\n",
       "</table>\n",
       "</div>"
      ],
      "text/plain": [
       "      Bigram  Count\n",
       "0      is it      7\n",
       "1   it legal      5\n",
       "2  they have      4\n",
       "3     out of      4\n",
       "4    for the      4\n",
       "5    this is      4\n",
       "6      to be      4\n",
       "7  the first      3\n",
       "8    my wife      3\n",
       "9  legal for      3"
      ]
     },
     "execution_count": 35,
     "metadata": {},
     "output_type": "execute_result"
    }
   ],
   "source": [
    "fp_common_bigrams = get_top_n_bigrams(false_positives['title'], 20)\n",
    "fp_cb_df = pd.DataFrame(fp_common_bigrams, columns = ['Bigram', 'Count'])\n",
    "fp_cb_df[:10]"
   ]
  },
  {
   "cell_type": "code",
   "execution_count": 36,
   "metadata": {},
   "outputs": [
    {
     "data": {
      "text/html": [
       "<div>\n",
       "<style scoped>\n",
       "    .dataframe tbody tr th:only-of-type {\n",
       "        vertical-align: middle;\n",
       "    }\n",
       "\n",
       "    .dataframe tbody tr th {\n",
       "        vertical-align: top;\n",
       "    }\n",
       "\n",
       "    .dataframe thead th {\n",
       "        text-align: right;\n",
       "    }\n",
       "</style>\n",
       "<table border=\"1\" class=\"dataframe\">\n",
       "  <thead>\n",
       "    <tr style=\"text-align: right;\">\n",
       "      <th></th>\n",
       "      <th>Bigram</th>\n",
       "      <th>Count</th>\n",
       "    </tr>\n",
       "  </thead>\n",
       "  <tbody>\n",
       "    <tr>\n",
       "      <th>0</th>\n",
       "      <td>actual title</td>\n",
       "      <td>5</td>\n",
       "    </tr>\n",
       "    <tr>\n",
       "      <th>1</th>\n",
       "      <td>can get</td>\n",
       "      <td>5</td>\n",
       "    </tr>\n",
       "    <tr>\n",
       "      <th>2</th>\n",
       "      <td>want to</td>\n",
       "      <td>4</td>\n",
       "    </tr>\n",
       "    <tr>\n",
       "      <th>3</th>\n",
       "      <td>on the</td>\n",
       "      <td>4</td>\n",
       "    </tr>\n",
       "    <tr>\n",
       "      <th>4</th>\n",
       "      <td>it fraud</td>\n",
       "      <td>4</td>\n",
       "    </tr>\n",
       "    <tr>\n",
       "      <th>5</th>\n",
       "      <td>my ex</td>\n",
       "      <td>3</td>\n",
       "    </tr>\n",
       "    <tr>\n",
       "      <th>6</th>\n",
       "      <td>for the</td>\n",
       "      <td>3</td>\n",
       "    </tr>\n",
       "    <tr>\n",
       "      <th>7</th>\n",
       "      <td>what do</td>\n",
       "      <td>3</td>\n",
       "    </tr>\n",
       "    <tr>\n",
       "      <th>8</th>\n",
       "      <td>an asshole</td>\n",
       "      <td>3</td>\n",
       "    </tr>\n",
       "    <tr>\n",
       "      <th>9</th>\n",
       "      <td>in the</td>\n",
       "      <td>3</td>\n",
       "    </tr>\n",
       "  </tbody>\n",
       "</table>\n",
       "</div>"
      ],
      "text/plain": [
       "         Bigram  Count\n",
       "0  actual title      5\n",
       "1       can get      5\n",
       "2       want to      4\n",
       "3        on the      4\n",
       "4      it fraud      4\n",
       "5         my ex      3\n",
       "6       for the      3\n",
       "7       what do      3\n",
       "8    an asshole      3\n",
       "9        in the      3"
      ]
     },
     "execution_count": 36,
     "metadata": {},
     "output_type": "execute_result"
    }
   ],
   "source": [
    "fn_common_bigrams = get_top_n_bigrams(false_negatives['title'], 20)\n",
    "fn_cb_df = pd.DataFrame(fn_common_bigrams, columns = ['Bigram', 'Count'])\n",
    "fn_cb_df[:10]"
   ]
  },
  {
   "cell_type": "markdown",
   "metadata": {},
   "source": [
    "Looking at my miscalssified titles, I'm noticing we're not seeing any of the most common bigrams we encountered in EDA.  One of the limitations of using bigrams in this set of data is the manner in which the r/bestoflegaladvice titles are set.  During EDA I noted the top bigrams in this subset included specific tags such as 'Actual post' and 'LAOP ___' (Legal Advice Original Post).  While this allows for more effective classification models when using bigrams, I'm seeing that the tags are not included in the misclassified titles.  In other words, when the model is trained on bigrams that include these common tags, it is a less effective classifier when those tags are missing."
   ]
  },
  {
   "cell_type": "markdown",
   "metadata": {},
   "source": [
    "One other point that came up when examining the misclassified titles was that we found a number of posts whose titles were not in english, when our model is primarily looking at an dataset that is in English"
   ]
  },
  {
   "cell_type": "code",
   "execution_count": 37,
   "metadata": {},
   "outputs": [
    {
     "data": {
      "image/png": "[encoded data removed]",
      "text/plain": [
       "<Figure size 432x288 with 1 Axes>"
      ]
     },
     "metadata": {
      "needs_background": "light"
     },
     "output_type": "display_data"
    }
   ],
   "source": [
    "not_english = misclassifieds[misclassifieds['language'] != 'en']\n",
    "not_english['language'].hist()\n",
    "plt.title('Frequency of Non-English Titles in Test Data')\n",
    "plt.savefig('./imgs/non-english-titles-hist.png');"
   ]
  },
  {
   "cell_type": "code",
   "execution_count": 38,
   "metadata": {},
   "outputs": [
    {
     "data": {
      "text/plain": [
       "9853             Is it illegal to drive nude in nebraska?\n",
       "8173                    question about Good Samaritan law\n",
       "273                        Peter, Peter, Pumpkin stealer?\n",
       "1554    إرهاب صهيونى.. جرافات الاحتلال تقطع جسد شاب فل...\n",
       "523               Xe nâng phuy gắn cân điện tử mua ở đâu?\n",
       "3194                                       Kangaroo Court\n",
       "4892               \"In capitalist Nevada, bank robs you!\"\n",
       "7611                                     Food stamp fraud\n",
       "4917                                         bestof video\n",
       "1020                                                 Help\n",
       "3226    Uahahahhaaaaaaahahahahhahahaahahahahhahahahahh...\n",
       "8285                                   Parking violations\n",
       "6853                                  False PFA dismissed\n",
       "6843                                          NFC problem\n",
       "9993                                             Crazy ex\n",
       "1232    #Who_Is_RealGod परमात्मा का नाम कबीर (कविर देव...\n",
       "6238                                    deleted edu email\n",
       "2151    Is it fraud if I commit fraud? Are you sure it...\n",
       "8156           Beverly Hills Surgeon Suing Me Over Review\n",
       "9677     Electrical installation not up to code [Alabama]\n",
       "8540                                      ding dong ditch\n",
       "610                                                    Ha\n",
       "8486                                           Stolen gun\n",
       "6283                 Restitution payments and drug rehab.\n",
       "665     #SaidShiripour #Lebensgeschichte #Motivation #...\n",
       "960     XXL Stresser/Booter - Login Panel Best IP Stre...\n",
       "584                                                    hi\n",
       "3953               Stolen cat video, didn’t sign contract\n",
       "2961                                               RUSTUM\n",
       "5099                      Friend is under review at work.\n",
       "2030                                      GoDaddy Concern\n",
       "2919           It's fraud...but maybe not marriage fraud?\n",
       "Name: title, dtype: object"
      ]
     },
     "execution_count": 38,
     "metadata": {},
     "output_type": "execute_result"
    }
   ],
   "source": [
    "not_english['title']"
   ]
  },
  {
   "cell_type": "markdown",
   "metadata": {},
   "source": [
    "Although as a side note, of the test data titles identified using the langdetect library's built in tools, some of the titles are actually in English, so I would be hesitent to use langdetect's detect function as a data cleaning tool without a deeper understanding of its tools."
   ]
  },
  {
   "cell_type": "markdown",
   "metadata": {},
   "source": [
    "## Phase 6 - Conclusions "
   ]
  },
  {
   "cell_type": "markdown",
   "metadata": {},
   "source": [
    "### 6.0 Revisit Problem Statement\n",
    "\n",
    "Original problem statement: How well can we train a classification model to correctly classify the title of a subreddit post as belonging to the r/legaladvice subreddit or the r/bestoflegaladvice subreddt?  Which classification model type will be the strongest?"
   ]
  },
  {
   "cell_type": "code",
   "execution_count": 39,
   "metadata": {},
   "outputs": [
    {
     "data": {
      "text/html": [
       "<div>\n",
       "<style scoped>\n",
       "    .dataframe tbody tr th:only-of-type {\n",
       "        vertical-align: middle;\n",
       "    }\n",
       "\n",
       "    .dataframe tbody tr th {\n",
       "        vertical-align: top;\n",
       "    }\n",
       "\n",
       "    .dataframe thead th {\n",
       "        text-align: right;\n",
       "    }\n",
       "</style>\n",
       "<table border=\"1\" class=\"dataframe\">\n",
       "  <thead>\n",
       "    <tr style=\"text-align: right;\">\n",
       "      <th></th>\n",
       "      <th>Train</th>\n",
       "      <th>Test</th>\n",
       "      <th>Variance</th>\n",
       "    </tr>\n",
       "  </thead>\n",
       "  <tbody>\n",
       "    <tr>\n",
       "      <th>Count Vectorized Random Forest</th>\n",
       "      <td>0.91</td>\n",
       "      <td>0.88</td>\n",
       "      <td>0.03</td>\n",
       "    </tr>\n",
       "    <tr>\n",
       "      <th>Count Vectorized Multinomial Naive Bayes</th>\n",
       "      <td>0.91</td>\n",
       "      <td>0.87</td>\n",
       "      <td>0.04</td>\n",
       "    </tr>\n",
       "    <tr>\n",
       "      <th>TF-IDF Vectorized Multinomial Naive Bayes</th>\n",
       "      <td>0.91</td>\n",
       "      <td>0.87</td>\n",
       "      <td>0.04</td>\n",
       "    </tr>\n",
       "    <tr>\n",
       "      <th>Count Vectorized Logistic Regression</th>\n",
       "      <td>0.94</td>\n",
       "      <td>0.89</td>\n",
       "      <td>0.05</td>\n",
       "    </tr>\n",
       "    <tr>\n",
       "      <th>TF-IDF Vectorized Random Forest</th>\n",
       "      <td>0.92</td>\n",
       "      <td>0.87</td>\n",
       "      <td>0.05</td>\n",
       "    </tr>\n",
       "    <tr>\n",
       "      <th>TF-IDF Logistic Regression</th>\n",
       "      <td>0.95</td>\n",
       "      <td>0.89</td>\n",
       "      <td>0.06</td>\n",
       "    </tr>\n",
       "    <tr>\n",
       "      <th>Count Vectorized K-Nearest Neighbors</th>\n",
       "      <td>0.99</td>\n",
       "      <td>0.72</td>\n",
       "      <td>0.27</td>\n",
       "    </tr>\n",
       "    <tr>\n",
       "      <th>TF-IDF Vectorized K-Nearest Neighbors</th>\n",
       "      <td>0.99</td>\n",
       "      <td>0.58</td>\n",
       "      <td>0.41</td>\n",
       "    </tr>\n",
       "  </tbody>\n",
       "</table>\n",
       "</div>"
      ],
      "text/plain": [
       "                                           Train  Test  Variance\n",
       "Count Vectorized Random Forest              0.91  0.88      0.03\n",
       "Count Vectorized Multinomial Naive Bayes    0.91  0.87      0.04\n",
       "TF-IDF Vectorized Multinomial Naive Bayes   0.91  0.87      0.04\n",
       "Count Vectorized Logistic Regression        0.94  0.89      0.05\n",
       "TF-IDF Vectorized Random Forest             0.92  0.87      0.05\n",
       "TF-IDF Logistic Regression                  0.95  0.89      0.06\n",
       "Count Vectorized K-Nearest Neighbors        0.99  0.72      0.27\n",
       "TF-IDF Vectorized K-Nearest Neighbors       0.99  0.58      0.41"
      ]
     },
     "execution_count": 39,
     "metadata": {},
     "output_type": "execute_result"
    }
   ],
   "source": [
    "accuracy_df.sort_values(by = ['Variance'])"
   ]
  },
  {
   "cell_type": "markdown",
   "metadata": {},
   "source": [
    "Accuracy is a good score to use in this case as we have a 50/50 split and there is no particular reason to favor specificity or sensitivity instead of overall accuracy."
   ]
  },
  {
   "cell_type": "code",
   "execution_count": 40,
   "metadata": {},
   "outputs": [
    {
     "data": {
      "image/png": "[encoded data removed]",
      "text/plain": [
       "<Figure size 432x288 with 2 Axes>"
      ]
     },
     "metadata": {
      "needs_background": "light"
     },
     "output_type": "display_data"
    }
   ],
   "source": [
    "plot_confusion_matrix(cvec_mnnb_gs, X_test, y_test, cmap='Greens', values_format='d')\n",
    "plt.title('Confusion Matrix of Count Vectorized Multinomial Naive Bayes');"
   ]
  },
  {
   "cell_type": "markdown",
   "metadata": {},
   "source": [
    "### 6.1 Conclusion"
   ]
  },
  {
   "cell_type": "markdown",
   "metadata": {},
   "source": [
    "The best model we encountered was a Count Vectorizer paired with a multinomial naive bayes model looking at bigrams.  As we predicted during EDA, we found that there was significant divergence between the most common bigrams of each subset, however as we looked at the misclassified data, we found that using these bigrams may be a crutch-  the portion of the misclassified did not include common tags that are commonly used by the redditors who rename the posts for r/bestoflegaladvice when tagging the post in the 'best of' subreddit."
   ]
  },
  {
   "cell_type": "markdown",
   "metadata": {},
   "source": [
    "This model is heartening as it was able to correctly classify 86% of the posts it had not seen before, significantly outperfoming our baseline of 50%.  It also revealed some significant room for improvement."
   ]
  },
  {
   "cell_type": "markdown",
   "metadata": {},
   "source": [
    "### 6.2 Recommendations for Further Research"
   ]
  },
  {
   "cell_type": "markdown",
   "metadata": {},
   "source": [
    "The model as currently trained is a good proof of concept, and should research continue, can serve as a basis for additional insights.  \n",
    "\n",
    "Future Iterations could include:\n",
    "\n",
    "    1. gather data from the reddit text instead of the reddit title.  Changing the corpus used will allow the model to potentially predict which legal advice posts will become 'best of' and serve as a model that predicts popularity and engagement from content.\n",
    "    2. strip out the crutch of title tags such as 'LAOP' to better tune the model.\n",
    "    3. incorporate a sentiment analysis transformer in the pipeline\n",
    "    4. train and incorporate a language filter to remove titles in a different language or potentially include this step as a transformer and add it as a feature to be examined."
   ]
  },
  {
   "cell_type": "markdown",
   "metadata": {},
   "source": [
    "### 6.3 Resources\n",
    "\n",
    "Randall Munroe- Reddit's New Comment Sorting System\n",
    "https://redditblog.com/2009/10/15/reddits-new-comment-sorting-system/ \n",
    "\n",
    "various redditors in r/NoStupidQuestions:\n",
    "https://www.reddit.com/r/NoStupidQuestions/comments/6cmz29/how_does_reddit_determine_the_best_ranking_in_a/\n",
    "\n",
    "Sentiment Analysis workflow in section 3.1 created by Caroline Schmitt- Sentiment Analysis lesson\n",
    "https://git.generalassemb.ly/DSI-12-Echelon/nlp_modeling_and_sentiment_analysis\n",
    "\n",
    "\n",
    "EDA Susan Li- Exploratory Data Analysis primer for text data:\n",
    "https://towardsdatascience.com/a-complete-exploratory-data-analysis-and-visualization-for-text-data-29fb1b96fb6a\n",
    "\n",
    "Edward Ma - Named Entity Recognition roundup:\n",
    "https://towardsdatascience.com/named-entity-recognition-3fad3f53c91e\n"
   ]
  },
  {
   "cell_type": "code",
   "execution_count": null,
   "metadata": {},
   "outputs": [],
   "source": []
  }
 ],
 "metadata": {
  "kernelspec": {
   "display_name": "Python 3.7.7 64-bit (conda)",
   "language": "python",
   "name": "python37764bitconda77dc9d652bc147c6a9d0ea8af6b5ba0e"
  },
  "language_info": {
   "codemirror_mode": {
    "name": "ipython",
    "version": 3
   },
   "file_extension": ".py",
   "mimetype": "text/x-python",
   "name": "python",
   "nbconvert_exporter": "python",
   "pygments_lexer": "ipython3",
   "version": "3.7.7"
  }
 },
 "nbformat": 4,
 "nbformat_minor": 4
}
